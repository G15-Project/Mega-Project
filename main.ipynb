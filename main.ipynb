{
 "cells": [
  {
   "cell_type": "code",
   "execution_count": 2,
   "metadata": {},
   "outputs": [],
   "source": [
    "import numpy as np\n",
    "import matplotlib.pyplot as plt\n",
    "from nltk.tokenize import sent_tokenize"
   ]
  },
  {
   "cell_type": "code",
   "execution_count": 3,
   "metadata": {},
   "outputs": [],
   "source": [
    "dataset = '''A minister is a politician who heads a ministry, making and implementing decisions on policies in conjunction with the other ministers. In some jurisdictions the head of government is also a minister and is designated the 'prime minister', 'premier', 'chief minister', 'chancellor' or other title.'''"
   ]
  },
  {
   "cell_type": "code",
   "execution_count": 25,
   "metadata": {},
   "outputs": [
    {
     "name": "stdout",
     "output_type": "stream",
     "text": [
      "Purity: 0.5723905723905723\n",
      "Entropy: 0.03367003367003367\n"
     ]
    },
    {
     "data": {
      "text/plain": [
       "'A minister is a politician who heads a ministry, making and implementing decisions on policies in conjunction with the other ministers.'"
      ]
     },
     "execution_count": 25,
     "metadata": {},
     "output_type": "execute_result"
    }
   ],
   "source": [
    "from nltk.tokenize import sent_tokenize\n",
    "from sklearn.feature_extraction.text import TfidfVectorizer\n",
    "from sklearn.metrics.pairwise import cosine_similarity\n",
    "\n",
    "query = \"politician\"\n",
    "\n",
    "N = len(dataset)\n",
    "P = dataset.find(query)+1\n",
    "W = len(query)\n",
    "E = dataset.count(query)\n",
    "\n",
    "purity = W*P/N\n",
    "entropy = W*E/N\n",
    "print(\"Purity:\", purity)\n",
    "print(\"Entropy:\", entropy)\n",
    "\n",
    "sentences = np.array(sent_tokenize(dataset))\n",
    "vectorizer = TfidfVectorizer(analyzer=\"word\")\n",
    "datasetVectorized = vectorizer.fit_transform(sentences)\n",
    "queryVectorized = vectorizer.transform([query])\n",
    "cosine_sim_arr = cosine_similarity(datasetVectorized, queryVectorized)\n",
    "cosine_sim_arr_enumerated = np.array(list(enumerate(cosine_sim_arr.flatten())))\n",
    "cosine_sim_arr_enumerated_sort = np.array(sorted(cosine_sim_arr_enumerated, key=lambda x: x[1], reverse=True))\n",
    "\" \".join(sentences[cosine_sim_arr_enumerated_sort[:, 1] > 0])"
   ]
  },
  {
   "cell_type": "code",
   "execution_count": 6,
   "metadata": {},
   "outputs": [
    {
     "data": {
      "image/png": "[encoded data removed]",
      "text/plain": [
       "<Figure size 640x480 with 1 Axes>"
      ]
     },
     "metadata": {},
     "output_type": "display_data"
    }
   ],
   "source": [
    "plt.bar([\"Purity\", \"Entropy\"], [purity, entropy], color=[\"red\", \"blue\"])\n",
    "import io\n",
    "import base64\n",
    "my_stringIObytes = io.BytesIO()\n",
    "plt.savefig(my_stringIObytes, format='jpg')\n",
    "my_stringIObytes.seek(0)\n",
    "my_base64_jpgData = base64.b64encode(my_stringIObytes.read()).decode()\n"
   ]
  }
 ],
 "metadata": {
  "kernelspec": {
   "display_name": "sujay",
   "language": "python",
   "name": "python3"
  },
  "language_info": {
   "codemirror_mode": {
    "name": "ipython",
    "version": 3
   },
   "file_extension": ".py",
   "mimetype": "text/x-python",
   "name": "python",
   "nbconvert_exporter": "python",
   "pygments_lexer": "ipython3",
   "version": "3.8.5"
  },
  "orig_nbformat": 4,
  "vscode": {
   "interpreter": {
    "hash": "6bf457409fb5310350dac3d9c321cb3d16987f13bc29d3195cb22016f7234d7f"
   }
  }
 },
 "nbformat": 4,
 "nbformat_minor": 2
}
